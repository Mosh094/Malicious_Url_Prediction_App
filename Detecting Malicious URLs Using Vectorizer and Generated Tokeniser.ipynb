{
 "cells": [
  {
   "cell_type": "markdown",
   "metadata": {},
   "source": [
    "# Import Relevant Libraries"
   ]
  },
  {
   "cell_type": "code",
   "execution_count": 1,
   "metadata": {},
   "outputs": [],
   "source": [
    "import numpy as np\n",
    "import pandas as pd\n",
    "import random\n",
    "from sklearn.feature_extraction.text import TfidfVectorizer\n",
    "from sklearn.feature_extraction.text import CountVectorizer\n",
    "from sklearn.linear_model import LogisticRegression\n",
    "from sklearn.model_selection import train_test_split"
   ]
  },
  {
   "cell_type": "markdown",
   "metadata": {},
   "source": [
    "# Load Data"
   ]
  },
  {
   "cell_type": "code",
   "execution_count": 2,
   "metadata": {},
   "outputs": [
    {
     "data": {
      "text/html": [
       "<div>\n",
       "<style scoped>\n",
       "    .dataframe tbody tr th:only-of-type {\n",
       "        vertical-align: middle;\n",
       "    }\n",
       "\n",
       "    .dataframe tbody tr th {\n",
       "        vertical-align: top;\n",
       "    }\n",
       "\n",
       "    .dataframe thead th {\n",
       "        text-align: right;\n",
       "    }\n",
       "</style>\n",
       "<table border=\"1\" class=\"dataframe\">\n",
       "  <thead>\n",
       "    <tr style=\"text-align: right;\">\n",
       "      <th></th>\n",
       "      <th>url</th>\n",
       "      <th>label</th>\n",
       "    </tr>\n",
       "  </thead>\n",
       "  <tbody>\n",
       "    <tr>\n",
       "      <th>0</th>\n",
       "      <td>diaryofagameaddict.com</td>\n",
       "      <td>bad</td>\n",
       "    </tr>\n",
       "    <tr>\n",
       "      <th>1</th>\n",
       "      <td>espdesign.com.au</td>\n",
       "      <td>bad</td>\n",
       "    </tr>\n",
       "    <tr>\n",
       "      <th>2</th>\n",
       "      <td>iamagameaddict.com</td>\n",
       "      <td>bad</td>\n",
       "    </tr>\n",
       "    <tr>\n",
       "      <th>3</th>\n",
       "      <td>kalantzis.net</td>\n",
       "      <td>bad</td>\n",
       "    </tr>\n",
       "    <tr>\n",
       "      <th>4</th>\n",
       "      <td>slightlyoffcenter.net</td>\n",
       "      <td>bad</td>\n",
       "    </tr>\n",
       "    <tr>\n",
       "      <th>5</th>\n",
       "      <td>toddscarwash.com</td>\n",
       "      <td>bad</td>\n",
       "    </tr>\n",
       "    <tr>\n",
       "      <th>6</th>\n",
       "      <td>tubemoviez.com</td>\n",
       "      <td>bad</td>\n",
       "    </tr>\n",
       "    <tr>\n",
       "      <th>7</th>\n",
       "      <td>ipl.hk</td>\n",
       "      <td>bad</td>\n",
       "    </tr>\n",
       "    <tr>\n",
       "      <th>8</th>\n",
       "      <td>crackspider.us/toolbar/install.php?pack=exe</td>\n",
       "      <td>bad</td>\n",
       "    </tr>\n",
       "    <tr>\n",
       "      <th>9</th>\n",
       "      <td>pos-kupang.com/</td>\n",
       "      <td>bad</td>\n",
       "    </tr>\n",
       "    <tr>\n",
       "      <th>10</th>\n",
       "      <td>rupor.info</td>\n",
       "      <td>bad</td>\n",
       "    </tr>\n",
       "    <tr>\n",
       "      <th>11</th>\n",
       "      <td>svision-online.de/mgfi/administrator/component...</td>\n",
       "      <td>bad</td>\n",
       "    </tr>\n",
       "    <tr>\n",
       "      <th>12</th>\n",
       "      <td>officeon.ch.ma/office.js?google_ad_format=728x...</td>\n",
       "      <td>bad</td>\n",
       "    </tr>\n",
       "    <tr>\n",
       "      <th>13</th>\n",
       "      <td>sn-gzzx.com</td>\n",
       "      <td>bad</td>\n",
       "    </tr>\n",
       "    <tr>\n",
       "      <th>14</th>\n",
       "      <td>sunlux.net/company/about.html</td>\n",
       "      <td>bad</td>\n",
       "    </tr>\n",
       "    <tr>\n",
       "      <th>15</th>\n",
       "      <td>outporn.com</td>\n",
       "      <td>bad</td>\n",
       "    </tr>\n",
       "    <tr>\n",
       "      <th>16</th>\n",
       "      <td>timothycopus.aimoo.com</td>\n",
       "      <td>bad</td>\n",
       "    </tr>\n",
       "    <tr>\n",
       "      <th>17</th>\n",
       "      <td>xindalawyer.com</td>\n",
       "      <td>bad</td>\n",
       "    </tr>\n",
       "    <tr>\n",
       "      <th>18</th>\n",
       "      <td>freeserials.spb.ru/key/68703.htm</td>\n",
       "      <td>bad</td>\n",
       "    </tr>\n",
       "    <tr>\n",
       "      <th>19</th>\n",
       "      <td>deletespyware-adware.com</td>\n",
       "      <td>bad</td>\n",
       "    </tr>\n",
       "    <tr>\n",
       "      <th>20</th>\n",
       "      <td>orbowlada.strefa.pl/text396.htm</td>\n",
       "      <td>bad</td>\n",
       "    </tr>\n",
       "    <tr>\n",
       "      <th>21</th>\n",
       "      <td>ruiyangcn.com</td>\n",
       "      <td>bad</td>\n",
       "    </tr>\n",
       "    <tr>\n",
       "      <th>22</th>\n",
       "      <td>zkic.com</td>\n",
       "      <td>bad</td>\n",
       "    </tr>\n",
       "    <tr>\n",
       "      <th>23</th>\n",
       "      <td>adserving.favorit-network.com/eas?camp=19320;c...</td>\n",
       "      <td>bad</td>\n",
       "    </tr>\n",
       "    <tr>\n",
       "      <th>24</th>\n",
       "      <td>cracks.vg/d1.php</td>\n",
       "      <td>bad</td>\n",
       "    </tr>\n",
       "    <tr>\n",
       "      <th>25</th>\n",
       "      <td>juicypussyclips.com</td>\n",
       "      <td>bad</td>\n",
       "    </tr>\n",
       "    <tr>\n",
       "      <th>26</th>\n",
       "      <td>nuptialimages.com</td>\n",
       "      <td>bad</td>\n",
       "    </tr>\n",
       "    <tr>\n",
       "      <th>27</th>\n",
       "      <td>andysgame.com</td>\n",
       "      <td>bad</td>\n",
       "    </tr>\n",
       "    <tr>\n",
       "      <th>28</th>\n",
       "      <td>bezproudoff.cz</td>\n",
       "      <td>bad</td>\n",
       "    </tr>\n",
       "    <tr>\n",
       "      <th>29</th>\n",
       "      <td>ceskarepublika.net</td>\n",
       "      <td>bad</td>\n",
       "    </tr>\n",
       "    <tr>\n",
       "      <th>...</th>\n",
       "      <td>...</td>\n",
       "      <td>...</td>\n",
       "    </tr>\n",
       "    <tr>\n",
       "      <th>420434</th>\n",
       "      <td>www.alfalima.it/transactions.php</td>\n",
       "      <td>bad</td>\n",
       "    </tr>\n",
       "    <tr>\n",
       "      <th>420435</th>\n",
       "      <td>rapiseebrains.com/?a=401336&amp;c=cpc&amp;s=050217</td>\n",
       "      <td>bad</td>\n",
       "    </tr>\n",
       "    <tr>\n",
       "      <th>420436</th>\n",
       "      <td>fuji-ncb.com.pk/js/fancybox/autolink/mailbox/m...</td>\n",
       "      <td>bad</td>\n",
       "    </tr>\n",
       "    <tr>\n",
       "      <th>420437</th>\n",
       "      <td>aadroid.net/sys.olk</td>\n",
       "      <td>bad</td>\n",
       "    </tr>\n",
       "    <tr>\n",
       "      <th>420438</th>\n",
       "      <td>mit.fileserver4390.org/file/nost.bgt</td>\n",
       "      <td>bad</td>\n",
       "    </tr>\n",
       "    <tr>\n",
       "      <th>420439</th>\n",
       "      <td>cureeczemafast.org/wp-conf.gbn</td>\n",
       "      <td>bad</td>\n",
       "    </tr>\n",
       "    <tr>\n",
       "      <th>420440</th>\n",
       "      <td>glutenfreeworks.com/lftAd.vfd</td>\n",
       "      <td>bad</td>\n",
       "    </tr>\n",
       "    <tr>\n",
       "      <th>420441</th>\n",
       "      <td>dataplues.com/quincy/pony/gate.php</td>\n",
       "      <td>bad</td>\n",
       "    </tr>\n",
       "    <tr>\n",
       "      <th>420442</th>\n",
       "      <td>60.250.76.52/</td>\n",
       "      <td>bad</td>\n",
       "    </tr>\n",
       "    <tr>\n",
       "      <th>420443</th>\n",
       "      <td>f4321y.com/</td>\n",
       "      <td>bad</td>\n",
       "    </tr>\n",
       "    <tr>\n",
       "      <th>420444</th>\n",
       "      <td>mykings.pw/</td>\n",
       "      <td>bad</td>\n",
       "    </tr>\n",
       "    <tr>\n",
       "      <th>420445</th>\n",
       "      <td>activatemywebsetup.com/img/sunday/Excel/PO/pag...</td>\n",
       "      <td>bad</td>\n",
       "    </tr>\n",
       "    <tr>\n",
       "      <th>420446</th>\n",
       "      <td>www.iemailpremium.com/read.php?f=1.gif</td>\n",
       "      <td>bad</td>\n",
       "    </tr>\n",
       "    <tr>\n",
       "      <th>420447</th>\n",
       "      <td>highpowerresources.com</td>\n",
       "      <td>bad</td>\n",
       "    </tr>\n",
       "    <tr>\n",
       "      <th>420448</th>\n",
       "      <td>new.ASKGRANNYSHOP.COM/?ct=Vivaldi&amp;amp;q=w33QMv...</td>\n",
       "      <td>bad</td>\n",
       "    </tr>\n",
       "    <tr>\n",
       "      <th>420449</th>\n",
       "      <td>find.burnsmarketingandresearch.com/?br_fl=6042...</td>\n",
       "      <td>bad</td>\n",
       "    </tr>\n",
       "    <tr>\n",
       "      <th>420450</th>\n",
       "      <td>gfd.DATINGUPPERCLASS.COM/?biw=Microsoft_Edge.7...</td>\n",
       "      <td>bad</td>\n",
       "    </tr>\n",
       "    <tr>\n",
       "      <th>420451</th>\n",
       "      <td>rty.freebiesfortheover60s.com/?biw=Amaya.102tw...</td>\n",
       "      <td>bad</td>\n",
       "    </tr>\n",
       "    <tr>\n",
       "      <th>420452</th>\n",
       "      <td>defibel.org/wp-includes/images/index.html</td>\n",
       "      <td>bad</td>\n",
       "    </tr>\n",
       "    <tr>\n",
       "      <th>420453</th>\n",
       "      <td>stefanocardone.com/wp-includes/SimplePie/HTTP/...</td>\n",
       "      <td>bad</td>\n",
       "    </tr>\n",
       "    <tr>\n",
       "      <th>420454</th>\n",
       "      <td>defibel.org/wp-includes/images/index.html</td>\n",
       "      <td>bad</td>\n",
       "    </tr>\n",
       "    <tr>\n",
       "      <th>420455</th>\n",
       "      <td>shapingsoftware.com/2009/02/09/architectural-s...</td>\n",
       "      <td>bad</td>\n",
       "    </tr>\n",
       "    <tr>\n",
       "      <th>420456</th>\n",
       "      <td>free.ulohapp.info/?br_fl=2872&amp;amp;tuif=5539&amp;am...</td>\n",
       "      <td>bad</td>\n",
       "    </tr>\n",
       "    <tr>\n",
       "      <th>420457</th>\n",
       "      <td>free.ulohapp.info/?oq=CEh3h_PskJLFZaQWwjEKBegU...</td>\n",
       "      <td>bad</td>\n",
       "    </tr>\n",
       "    <tr>\n",
       "      <th>420458</th>\n",
       "      <td>mol.com-ho.me/cv_itworx.doc</td>\n",
       "      <td>bad</td>\n",
       "    </tr>\n",
       "    <tr>\n",
       "      <th>420459</th>\n",
       "      <td>23.227.196.215/</td>\n",
       "      <td>bad</td>\n",
       "    </tr>\n",
       "    <tr>\n",
       "      <th>420460</th>\n",
       "      <td>apple-checker.org/</td>\n",
       "      <td>bad</td>\n",
       "    </tr>\n",
       "    <tr>\n",
       "      <th>420461</th>\n",
       "      <td>apple-iclods.org/</td>\n",
       "      <td>bad</td>\n",
       "    </tr>\n",
       "    <tr>\n",
       "      <th>420462</th>\n",
       "      <td>apple-uptoday.org/</td>\n",
       "      <td>bad</td>\n",
       "    </tr>\n",
       "    <tr>\n",
       "      <th>420463</th>\n",
       "      <td>apple-search.info</td>\n",
       "      <td>bad</td>\n",
       "    </tr>\n",
       "  </tbody>\n",
       "</table>\n",
       "<p>420464 rows × 2 columns</p>\n",
       "</div>"
      ],
      "text/plain": [
       "                                                      url label\n",
       "0                                  diaryofagameaddict.com   bad\n",
       "1                                        espdesign.com.au   bad\n",
       "2                                      iamagameaddict.com   bad\n",
       "3                                           kalantzis.net   bad\n",
       "4                                   slightlyoffcenter.net   bad\n",
       "5                                        toddscarwash.com   bad\n",
       "6                                          tubemoviez.com   bad\n",
       "7                                                  ipl.hk   bad\n",
       "8             crackspider.us/toolbar/install.php?pack=exe   bad\n",
       "9                                         pos-kupang.com/   bad\n",
       "10                                             rupor.info   bad\n",
       "11      svision-online.de/mgfi/administrator/component...   bad\n",
       "12      officeon.ch.ma/office.js?google_ad_format=728x...   bad\n",
       "13                                            sn-gzzx.com   bad\n",
       "14                          sunlux.net/company/about.html   bad\n",
       "15                                            outporn.com   bad\n",
       "16                                 timothycopus.aimoo.com   bad\n",
       "17                                        xindalawyer.com   bad\n",
       "18                       freeserials.spb.ru/key/68703.htm   bad\n",
       "19                               deletespyware-adware.com   bad\n",
       "20                        orbowlada.strefa.pl/text396.htm   bad\n",
       "21                                          ruiyangcn.com   bad\n",
       "22                                               zkic.com   bad\n",
       "23      adserving.favorit-network.com/eas?camp=19320;c...   bad\n",
       "24                                       cracks.vg/d1.php   bad\n",
       "25                                    juicypussyclips.com   bad\n",
       "26                                      nuptialimages.com   bad\n",
       "27                                          andysgame.com   bad\n",
       "28                                         bezproudoff.cz   bad\n",
       "29                                     ceskarepublika.net   bad\n",
       "...                                                   ...   ...\n",
       "420434                   www.alfalima.it/transactions.php   bad\n",
       "420435         rapiseebrains.com/?a=401336&c=cpc&s=050217   bad\n",
       "420436  fuji-ncb.com.pk/js/fancybox/autolink/mailbox/m...   bad\n",
       "420437                                aadroid.net/sys.olk   bad\n",
       "420438               mit.fileserver4390.org/file/nost.bgt   bad\n",
       "420439                     cureeczemafast.org/wp-conf.gbn   bad\n",
       "420440                      glutenfreeworks.com/lftAd.vfd   bad\n",
       "420441                 dataplues.com/quincy/pony/gate.php   bad\n",
       "420442                                      60.250.76.52/   bad\n",
       "420443                                        f4321y.com/   bad\n",
       "420444                                        mykings.pw/   bad\n",
       "420445  activatemywebsetup.com/img/sunday/Excel/PO/pag...   bad\n",
       "420446             www.iemailpremium.com/read.php?f=1.gif   bad\n",
       "420447                             highpowerresources.com   bad\n",
       "420448  new.ASKGRANNYSHOP.COM/?ct=Vivaldi&amp;q=w33QMv...   bad\n",
       "420449  find.burnsmarketingandresearch.com/?br_fl=6042...   bad\n",
       "420450  gfd.DATINGUPPERCLASS.COM/?biw=Microsoft_Edge.7...   bad\n",
       "420451  rty.freebiesfortheover60s.com/?biw=Amaya.102tw...   bad\n",
       "420452          defibel.org/wp-includes/images/index.html   bad\n",
       "420453  stefanocardone.com/wp-includes/SimplePie/HTTP/...   bad\n",
       "420454          defibel.org/wp-includes/images/index.html   bad\n",
       "420455  shapingsoftware.com/2009/02/09/architectural-s...   bad\n",
       "420456  free.ulohapp.info/?br_fl=2872&amp;tuif=5539&am...   bad\n",
       "420457  free.ulohapp.info/?oq=CEh3h_PskJLFZaQWwjEKBegU...   bad\n",
       "420458                        mol.com-ho.me/cv_itworx.doc   bad\n",
       "420459                                    23.227.196.215/   bad\n",
       "420460                                 apple-checker.org/   bad\n",
       "420461                                  apple-iclods.org/   bad\n",
       "420462                                 apple-uptoday.org/   bad\n",
       "420463                                  apple-search.info   bad\n",
       "\n",
       "[420464 rows x 2 columns]"
      ]
     },
     "execution_count": 2,
     "metadata": {},
     "output_type": "execute_result"
    }
   ],
   "source": [
    "url_data_raw = pd.read_csv('url_dataa.csv')\n",
    "url_data_raw"
   ]
  },
  {
   "cell_type": "code",
   "execution_count": 3,
   "metadata": {},
   "outputs": [
    {
     "data": {
      "text/plain": [
       "pandas.core.frame.DataFrame"
      ]
     },
     "execution_count": 3,
     "metadata": {},
     "output_type": "execute_result"
    }
   ],
   "source": [
    "type(url_data_raw)"
   ]
  },
  {
   "cell_type": "markdown",
   "metadata": {},
   "source": [
    "# Create a Token to remove '.com' , '/'"
   ]
  },
  {
   "cell_type": "code",
   "execution_count": 4,
   "metadata": {},
   "outputs": [],
   "source": [
    "def makeTokens(f):\n",
    "    tkns_BySlash = str(f.encode('utf-8')).split('/')#make token, convert to string and slip of '/'\n",
    "    total_Tokens = [] # store in the list 'total_Token'\n",
    "    for i in tkns_BySlash: #Looking into the list 'tkns_BySlash' and split off '-' and '.'\n",
    "        tokens = str(i).split('-')# First Split off '-'  \n",
    "        tkns_ByDot = []\n",
    "        for j in range(0,len(tokens)):\n",
    "            temp_Tokens = str(tokens[j]).split('.') #Then split off '.'\n",
    "            tkns_ByDot = tkns_ByDot + temp_Tokens\n",
    "            total_Tokens = total_Tokens + Tokens + tkns_ByDot #Combine all Splits above\n",
    "            total_Tokens = list(set(total_Tokens))# create a list from the above combination and remove redundant tokens\n",
    "            if 'com' in total_Tokens:\n",
    "                total_Tokens.remove('com') #remove.com as it occured alot\n",
    "                return total_Tokens"
   ]
  },
  {
   "cell_type": "markdown",
   "metadata": {},
   "source": [
    "# Declare Variables"
   ]
  },
  {
   "cell_type": "markdown",
   "metadata": {},
   "source": [
    "# Labels"
   ]
  },
  {
   "cell_type": "code",
   "execution_count": 5,
   "metadata": {},
   "outputs": [],
   "source": [
    "y = url_data_raw['label']"
   ]
  },
  {
   "cell_type": "markdown",
   "metadata": {},
   "source": [
    "# Features"
   ]
  },
  {
   "cell_type": "code",
   "execution_count": 6,
   "metadata": {},
   "outputs": [
    {
     "data": {
      "text/plain": [
       "0                                    diaryofagameaddict.com\n",
       "1                                          espdesign.com.au\n",
       "2                                        iamagameaddict.com\n",
       "3                                             kalantzis.net\n",
       "4                                     slightlyoffcenter.net\n",
       "5                                          toddscarwash.com\n",
       "6                                            tubemoviez.com\n",
       "7                                                    ipl.hk\n",
       "8               crackspider.us/toolbar/install.php?pack=exe\n",
       "9                                           pos-kupang.com/\n",
       "10                                               rupor.info\n",
       "11        svision-online.de/mgfi/administrator/component...\n",
       "12        officeon.ch.ma/office.js?google_ad_format=728x...\n",
       "13                                              sn-gzzx.com\n",
       "14                            sunlux.net/company/about.html\n",
       "15                                              outporn.com\n",
       "16                                   timothycopus.aimoo.com\n",
       "17                                          xindalawyer.com\n",
       "18                         freeserials.spb.ru/key/68703.htm\n",
       "19                                 deletespyware-adware.com\n",
       "20                          orbowlada.strefa.pl/text396.htm\n",
       "21                                            ruiyangcn.com\n",
       "22                                                 zkic.com\n",
       "23        adserving.favorit-network.com/eas?camp=19320;c...\n",
       "24                                         cracks.vg/d1.php\n",
       "25                                      juicypussyclips.com\n",
       "26                                        nuptialimages.com\n",
       "27                                            andysgame.com\n",
       "28                                           bezproudoff.cz\n",
       "29                                       ceskarepublika.net\n",
       "                                ...                        \n",
       "420434                     www.alfalima.it/transactions.php\n",
       "420435           rapiseebrains.com/?a=401336&c=cpc&s=050217\n",
       "420436    fuji-ncb.com.pk/js/fancybox/autolink/mailbox/m...\n",
       "420437                                  aadroid.net/sys.olk\n",
       "420438                 mit.fileserver4390.org/file/nost.bgt\n",
       "420439                       cureeczemafast.org/wp-conf.gbn\n",
       "420440                        glutenfreeworks.com/lftAd.vfd\n",
       "420441                   dataplues.com/quincy/pony/gate.php\n",
       "420442                                        60.250.76.52/\n",
       "420443                                          f4321y.com/\n",
       "420444                                          mykings.pw/\n",
       "420445    activatemywebsetup.com/img/sunday/Excel/PO/pag...\n",
       "420446               www.iemailpremium.com/read.php?f=1.gif\n",
       "420447                               highpowerresources.com\n",
       "420448    new.ASKGRANNYSHOP.COM/?ct=Vivaldi&amp;q=w33QMv...\n",
       "420449    find.burnsmarketingandresearch.com/?br_fl=6042...\n",
       "420450    gfd.DATINGUPPERCLASS.COM/?biw=Microsoft_Edge.7...\n",
       "420451    rty.freebiesfortheover60s.com/?biw=Amaya.102tw...\n",
       "420452            defibel.org/wp-includes/images/index.html\n",
       "420453    stefanocardone.com/wp-includes/SimplePie/HTTP/...\n",
       "420454            defibel.org/wp-includes/images/index.html\n",
       "420455    shapingsoftware.com/2009/02/09/architectural-s...\n",
       "420456    free.ulohapp.info/?br_fl=2872&amp;tuif=5539&am...\n",
       "420457    free.ulohapp.info/?oq=CEh3h_PskJLFZaQWwjEKBegU...\n",
       "420458                          mol.com-ho.me/cv_itworx.doc\n",
       "420459                                      23.227.196.215/\n",
       "420460                                   apple-checker.org/\n",
       "420461                                    apple-iclods.org/\n",
       "420462                                   apple-uptoday.org/\n",
       "420463                                    apple-search.info\n",
       "Name: url, Length: 420464, dtype: object"
      ]
     },
     "execution_count": 6,
     "metadata": {},
     "output_type": "execute_result"
    }
   ],
   "source": [
    "x1 = url_data_raw['url']\n",
    "x1"
   ]
  },
  {
   "cell_type": "markdown",
   "metadata": {},
   "source": [
    "# Apply Vectorizer"
   ]
  },
  {
   "cell_type": "markdown",
   "metadata": {},
   "source": [
    "* Using Default Tokenizer\n",
    "* vectorizer = Tfidvectorizer()\n",
    "* Term Frequency and Inverse Document Frequency\n",
    "* use custom Tokenizer"
   ]
  },
  {
   "cell_type": "code",
   "execution_count": 7,
   "metadata": {},
   "outputs": [],
   "source": [
    "vectorizer = TfidfVectorizer() # Using Tokenizer\n",
    "X = vectorizer.fit_transform(x1) # Store vectors into X variable as Our XFeatures"
   ]
  },
  {
   "cell_type": "markdown",
   "metadata": {},
   "source": [
    "# Split Train and Test Data"
   ]
  },
  {
   "cell_type": "code",
   "execution_count": 8,
   "metadata": {},
   "outputs": [],
   "source": [
    "X_train, X_test, y_train, y_test = train_test_split(X, y, test_size=0.3, random_state=42)"
   ]
  },
  {
   "cell_type": "markdown",
   "metadata": {},
   "source": [
    "# Build The Logistic Regression Model"
   ]
  },
  {
   "cell_type": "code",
   "execution_count": 9,
   "metadata": {},
   "outputs": [
    {
     "name": "stderr",
     "output_type": "stream",
     "text": [
      "C:\\Users\\HP EliteBook 840\\Anaconda3\\lib\\site-packages\\sklearn\\linear_model\\_logistic.py:939: ConvergenceWarning: lbfgs failed to converge (status=1):\n",
      "STOP: TOTAL NO. of ITERATIONS REACHED LIMIT.\n",
      "\n",
      "Increase the number of iterations (max_iter) or scale the data as shown in:\n",
      "    https://scikit-learn.org/stable/modules/preprocessing.html.\n",
      "Please also refer to the documentation for alternative solver options:\n",
      "    https://scikit-learn.org/stable/modules/linear_model.html#logistic-regression\n",
      "  extra_warning_msg=_LOGISTIC_SOLVER_CONVERGENCE_MSG)\n"
     ]
    },
    {
     "data": {
      "text/plain": [
       "LogisticRegression(C=1.0, class_weight=None, dual=False, fit_intercept=True,\n",
       "                   intercept_scaling=1, l1_ratio=None, max_iter=100,\n",
       "                   multi_class='auto', n_jobs=None, penalty='l2',\n",
       "                   random_state=None, solver='lbfgs', tol=0.0001, verbose=0,\n",
       "                   warm_start=False)"
      ]
     },
     "execution_count": 9,
     "metadata": {},
     "output_type": "execute_result"
    }
   ],
   "source": [
    "logit = LogisticRegression()\n",
    "logit.fit(X_train, y_train)"
   ]
  },
  {
   "cell_type": "markdown",
   "metadata": {},
   "source": [
    "# Pickle The Regression"
   ]
  },
  {
   "cell_type": "code",
   "execution_count": 10,
   "metadata": {},
   "outputs": [],
   "source": [
    "### Create a Pickle file using serialization \n",
    "import pickle\n",
    "pickle_out = open(\"logit.pkl\",\"wb\")\n",
    "pickle.dump(logit, pickle_out)\n",
    "pickle_out.close()"
   ]
  },
  {
   "cell_type": "markdown",
   "metadata": {},
   "source": [
    "# Check Accuracy of Test Data"
   ]
  },
  {
   "cell_type": "code",
   "execution_count": 11,
   "metadata": {},
   "outputs": [
    {
     "name": "stdout",
     "output_type": "stream",
     "text": [
      "Accuracy 0.9624068495322657\n"
     ]
    }
   ],
   "source": [
    "print(\"Accuracy\",logit.score(X_test, y_test))"
   ]
  },
  {
   "cell_type": "markdown",
   "metadata": {},
   "source": [
    "# Predict Model with Random Websites"
   ]
  },
  {
   "cell_type": "markdown",
   "metadata": {},
   "source": [
    "Input Websites to be Predicted"
   ]
  },
  {
   "cell_type": "code",
   "execution_count": 12,
   "metadata": {},
   "outputs": [],
   "source": [
    "X_predict = [\"linkedin.com\",\"google.com\",\"hamoye.com\",\"learnpython.org\",\"nltk.org\",\"b-ok.cc\",\"tubemoviez.com\",\"katcr.to\", \"tubemate.net\"]"
   ]
  },
  {
   "cell_type": "markdown",
   "metadata": {},
   "source": [
    "Apply Vectorization on Websites to be predicted"
   ]
  },
  {
   "cell_type": "code",
   "execution_count": 13,
   "metadata": {},
   "outputs": [],
   "source": [
    "X_predict = vectorizer.transform(X_predict)\n",
    "New_predict = logit.predict(X_predict)"
   ]
  },
  {
   "cell_type": "markdown",
   "metadata": {},
   "source": [
    "Print Predictions"
   ]
  },
  {
   "cell_type": "code",
   "execution_count": 14,
   "metadata": {},
   "outputs": [
    {
     "name": "stdout",
     "output_type": "stream",
     "text": [
      "['good' 'good' 'good' 'good' 'good' 'bad' 'good' 'good' 'good']\n"
     ]
    }
   ],
   "source": [
    "print(New_predict)"
   ]
  },
  {
   "cell_type": "code",
   "execution_count": 15,
   "metadata": {},
   "outputs": [],
   "source": [
    "# Using default vectorizer without tokeniser\n",
    "#vectorizer = TfidfVectorizer() # Using Tokenizer\n",
    "# X = vectorizer.fit_transform(x1)"
   ]
  },
  {
   "cell_type": "code",
   "execution_count": null,
   "metadata": {},
   "outputs": [],
   "source": []
  }
 ],
 "metadata": {
  "kernelspec": {
   "display_name": "Python 3",
   "language": "python",
   "name": "python3"
  },
  "language_info": {
   "codemirror_mode": {
    "name": "ipython",
    "version": 3
   },
   "file_extension": ".py",
   "mimetype": "text/x-python",
   "name": "python",
   "nbconvert_exporter": "python",
   "pygments_lexer": "ipython3",
   "version": "3.8.3"
  }
 },
 "nbformat": 4,
 "nbformat_minor": 2
}
